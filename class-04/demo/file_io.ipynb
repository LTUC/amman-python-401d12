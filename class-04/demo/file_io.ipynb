{
 "cells": [
  {
   "cell_type": "markdown",
   "metadata": {},
   "source": [
    "Interactive Python Notebook"
   ]
  },
  {
   "cell_type": "code",
   "execution_count": 2,
   "metadata": {},
   "outputs": [
    {
     "name": "stdout",
     "output_type": "stream",
     "text": [
      "Hello\n"
     ]
    }
   ],
   "source": [
    "print(\"Hello\")"
   ]
  },
  {
   "cell_type": "code",
   "execution_count": 3,
   "metadata": {},
   "outputs": [
    {
     "name": "stdout",
     "output_type": "stream",
     "text": [
      "asac 401d12 python\n"
     ]
    }
   ],
   "source": [
    "print(\"asac 401d12 python\")"
   ]
  },
  {
   "cell_type": "markdown",
   "metadata": {},
   "source": [
    "## File I/O"
   ]
  },
  {
   "cell_type": "code",
   "execution_count": 4,
   "metadata": {},
   "outputs": [
    {
     "name": "stdout",
     "output_type": "stream",
     "text": [
      "<_io.TextIOWrapper name='cars.txt' mode='r' encoding='UTF-8'>\n"
     ]
    }
   ],
   "source": [
    "file = open(\"cars.txt\")\n",
    "print(file)"
   ]
  },
  {
   "cell_type": "code",
   "execution_count": 5,
   "metadata": {},
   "outputs": [
    {
     "name": "stdout",
     "output_type": "stream",
     "text": [
      "Mercedes-Benz\n",
      "BMW\n",
      "Ford\n",
      "Audi\n",
      "Kia\n",
      "Toyota\n",
      "Volkswagen\n"
     ]
    }
   ],
   "source": [
    "content = file.read()\n",
    "print(content)"
   ]
  },
  {
   "cell_type": "code",
   "execution_count": 6,
   "metadata": {},
   "outputs": [
    {
     "name": "stdout",
     "output_type": "stream",
     "text": [
      "is this file closed? False\n"
     ]
    }
   ],
   "source": [
    "print(\"is this file closed?\", file.closed)"
   ]
  },
  {
   "cell_type": "code",
   "execution_count": 7,
   "metadata": {},
   "outputs": [
    {
     "name": "stdout",
     "output_type": "stream",
     "text": [
      "is this file closed? True\n"
     ]
    }
   ],
   "source": [
    "file.close()\n",
    "print(\"is this file closed?\", file.closed)"
   ]
  },
  {
   "cell_type": "code",
   "execution_count": 8,
   "metadata": {},
   "outputs": [
    {
     "name": "stdout",
     "output_type": "stream",
     "text": [
      "JAX\t\n",
      "PRINCE\n",
      "WHISKEY\n",
      "ACE\t\n",
      "SHADOW\n",
      "SAM\n"
     ]
    }
   ],
   "source": [
    "x = open('dogs.txt', 'r')\n",
    "print(x.read())"
   ]
  },
  {
   "cell_type": "markdown",
   "metadata": {},
   "source": [
    "There are modes in which you can open file:\n",
    "- Read mode ('r')\n",
    "- Write mode ('w')\n",
    "- Append mode ('a')\n",
    "- Add + sign to include the read permession"
   ]
  },
  {
   "cell_type": "code",
   "execution_count": 9,
   "metadata": {},
   "outputs": [
    {
     "ename": "ValueError",
     "evalue": "I/O operation on closed file.",
     "output_type": "error",
     "traceback": [
      "\u001b[0;31m---------------------------------------------------------------------------\u001b[0m",
      "\u001b[0;31mValueError\u001b[0m                                Traceback (most recent call last)",
      "Cell \u001b[0;32mIn[9], line 2\u001b[0m\n\u001b[1;32m      1\u001b[0m x\u001b[38;5;241m.\u001b[39mclose()\n\u001b[0;32m----> 2\u001b[0m \u001b[38;5;28mprint\u001b[39m(\u001b[43mx\u001b[49m\u001b[38;5;241;43m.\u001b[39;49m\u001b[43mread\u001b[49m\u001b[43m(\u001b[49m\u001b[43m)\u001b[49m)\n",
      "\u001b[0;31mValueError\u001b[0m: I/O operation on closed file."
     ]
    }
   ],
   "source": [
    "x.close()\n",
    "print(x.read())"
   ]
  },
  {
   "cell_type": "code",
   "execution_count": 10,
   "metadata": {},
   "outputs": [
    {
     "ename": "ValueError",
     "evalue": "I/O operation on closed file.",
     "output_type": "error",
     "traceback": [
      "\u001b[0;31m---------------------------------------------------------------------------\u001b[0m",
      "\u001b[0;31mValueError\u001b[0m                                Traceback (most recent call last)",
      "Cell \u001b[0;32mIn[10], line 1\u001b[0m\n\u001b[0;32m----> 1\u001b[0m \u001b[43mx\u001b[49m\u001b[38;5;241;43m.\u001b[39;49m\u001b[43mwrite\u001b[49m\u001b[43m(\u001b[49m\u001b[38;5;124;43m\"\u001b[39;49m\u001b[38;5;124;43mall of these are dogs\u001b[39;49m\u001b[38;5;124;43m\"\u001b[39;49m\u001b[43m)\u001b[49m\n",
      "\u001b[0;31mValueError\u001b[0m: I/O operation on closed file."
     ]
    }
   ],
   "source": [
    "x.write(\"all of these are dogs\")"
   ]
  },
  {
   "cell_type": "markdown",
   "metadata": {},
   "source": [
    "### open file with with()"
   ]
  },
  {
   "cell_type": "code",
   "execution_count": 18,
   "metadata": {},
   "outputs": [
    {
     "name": "stdout",
     "output_type": "stream",
     "text": [
      "True\n",
      "Mercedes-Benz\n",
      "\n",
      "BMW\n",
      "\n",
      "Ford\n",
      "\n",
      "Audi\n",
      "\n",
      "Kia\n",
      "\n",
      "Toyota\n",
      "\n",
      "Volkswagen\n"
     ]
    }
   ],
   "source": [
    "with open('cars.txt') as file_object:\n",
    "    # content = file_object.read()\n",
    "    # content = file_object.readlines()\n",
    "    # content = file_object.readline()\n",
    "    content = file_object.readable()\n",
    "    print(content)\n",
    "\n",
    "    ''' this is another option to read a file line by line'''\n",
    "    with open('cars.txt') as file_object2:\n",
    "        for line in file_object2:\n",
    "            print(line)"
   ]
  },
  {
   "cell_type": "markdown",
   "metadata": {},
   "source": [
    "what if we use readable() method with a file that does not exist"
   ]
  },
  {
   "cell_type": "code",
   "execution_count": 20,
   "metadata": {},
   "outputs": [
    {
     "name": "stdout",
     "output_type": "stream",
     "text": [
      "False\n"
     ]
    }
   ],
   "source": [
    "with open('cats.txt', 'w') as file_object:\n",
    "    flag = file_object.readable()\n",
    "    print(flag)"
   ]
  },
  {
   "cell_type": "markdown",
   "metadata": {},
   "source": [
    "Writing on an empty file"
   ]
  },
  {
   "cell_type": "code",
   "execution_count": 21,
   "metadata": {},
   "outputs": [],
   "source": [
    "with open('student.txt', 'w') as file_object:\n",
    "    file_object.write(\"My name is Roaa.\")"
   ]
  },
  {
   "cell_type": "code",
   "execution_count": 22,
   "metadata": {},
   "outputs": [],
   "source": [
    "with open('student.txt', 'w') as file_object:\n",
    "    file_object.write(\"My age is 29.\")"
   ]
  },
  {
   "cell_type": "code",
   "execution_count": 23,
   "metadata": {},
   "outputs": [],
   "source": [
    "with open('student.txt', 'w') as file_object:\n",
    "    file_object.write(\"I am a developer\")"
   ]
  },
  {
   "cell_type": "markdown",
   "metadata": {},
   "source": [
    "Appending to a file"
   ]
  },
  {
   "cell_type": "code",
   "execution_count": 26,
   "metadata": {},
   "outputs": [],
   "source": [
    "# 'a' - Append - will appen to the end of the file\n",
    "# 'w' - Write - will overwrite any existing content\n",
    "with open('student.txt', 'a') as file_object:\n",
    "    file_object.write(\"\\nmy age is 29\\n\")\n",
    "    file_object.write(\"I'm a developer\\n\")"
   ]
  },
  {
   "cell_type": "code",
   "execution_count": 40,
   "metadata": {},
   "outputs": [
    {
     "name": "stdout",
     "output_type": "stream",
     "text": [
      "\n"
     ]
    }
   ],
   "source": [
    "# a+ used to pen the file in a read-write mode \n",
    "with open('student.txt', 'a+') as file_object:\n",
    "    file_object.write(\"\\n I love python\")\n",
    "    file_content = file_object.read()\n",
    "    print(file_content)"
   ]
  },
  {
   "cell_type": "code",
   "execution_count": 41,
   "metadata": {},
   "outputs": [
    {
     "name": "stdout",
     "output_type": "stream",
     "text": [
      "Contents of the file:\n",
      "This is line 1\n",
      "This is line 2\n",
      "\n"
     ]
    }
   ],
   "source": [
    "# Opening a file in 'a+' mode\n",
    "with open('example.txt', 'a+') as file:\n",
    "    # Appending data to the file\n",
    "    file.write(\"This is line 1\\n\")\n",
    "    file.write(\"This is line 2\\n\")\n",
    "\n",
    "    # Moving the file pointer to the beginning of the file\n",
    "    file.seek(0)\n",
    "\n",
    "    # Reading data from the file\n",
    "    print(\"Contents of the file:\")\n",
    "    print(file.read())"
   ]
  }
 ],
 "metadata": {
  "kernelspec": {
   "display_name": ".venv",
   "language": "python",
   "name": "python3"
  },
  "language_info": {
   "codemirror_mode": {
    "name": "ipython",
    "version": 3
   },
   "file_extension": ".py",
   "mimetype": "text/x-python",
   "name": "python",
   "nbconvert_exporter": "python",
   "pygments_lexer": "ipython3",
   "version": "3.10.7"
  }
 },
 "nbformat": 4,
 "nbformat_minor": 2
}
